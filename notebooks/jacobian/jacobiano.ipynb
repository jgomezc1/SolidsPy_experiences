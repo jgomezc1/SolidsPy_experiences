{
 "cells": [
  {
   "cell_type": "markdown",
   "metadata": {
    "raw_mimetype": "text/latex"
   },
   "source": [
    "(c) Juan Gomez 2019. Thanks to Universidad EAFIT for support. This material is part of the course Introduction to Finite Element Analysis"
   ]
  },
  {
   "cell_type": "markdown",
   "metadata": {},
   "source": [
    "# The Jacobian Operator"
   ]
  },
  {
   "cell_type": "markdown",
   "metadata": {},
   "source": [
    "## Introduction"
   ]
  },
  {
   "cell_type": "markdown",
   "metadata": {},
   "source": [
    "The Jacobian operator plays a fundamental role in the isoparameteric transformation in finite element methods where it is used to mapp an element from its form in the physical space to a canonical form in the natural space (see figure).\n",
    "\n",
    "<center><img src=\"img/mapping.png\" alt=\"files\" style=\"width:500px\"></center>"
   ]
  },
  {
   "cell_type": "markdown",
   "metadata": {},
   "source": [
    "## How to compute the Jacobian at a Gauss point?"
   ]
  },
  {
   "cell_type": "code",
   "execution_count": 67,
   "metadata": {},
   "outputs": [],
   "source": [
    "%matplotlib inline        \n",
    "import numpy as np"
   ]
  },
  {
   "cell_type": "markdown",
   "metadata": {},
   "source": [
    "\n",
    "\n",
    "The computation of the Jacobian at a Gauss point of coordinates $(r_i , s_i)$ is described next. Let the geometric trasnsformation from the natural to the physical space be written like:\n",
    "\n",
    "$$x_i (r_J)=N_i^Q(r_J)x^Q$$\n",
    "\n",
    "where:\n",
    "\n",
    "- $r_J$: Position vector in the natural space.\n",
    "\n",
    "- $x_i (r_J)$: Position vector in the physical space associated to the point $r_J$ in the natural space.\n",
    "\n",
    "- $N_i^Q(r_J)$: Shape function for the Q-th nodal point evaluated at $r_J$.\n",
    "\n",
    "- $x^Q$: Nodal coordinates for the Q-th node in the physical space.\n",
    "\n",
    "The Jacobian operator is defined like:\n",
    "\n",
    "$$J_{iJ}=\\frac{\\partial x_i}{\\partial r_J}\\equiv\\frac{\\partial N_i^Q}{\\partial r_J}x^Q.$$"
   ]
  },
  {
   "cell_type": "markdown",
   "metadata": {},
   "source": [
    "In matrix form the contribution from nodal point $Q$ to the Jacobian of the transformation takes the form:\n",
    "\n",
    "$$\n",
    "\\begin{array}{l}\\begin{bmatrix}\\frac{\\partial x}{\\partial r}&\\frac{\\partial y}{\\partial r}\\\\\\frac{\\partial x}{\\partial s}&\\frac{\\partial y}{\\partial s}\\end{bmatrix}=\\begin{bmatrix}\\cdots&\\begin{array}{c}\\frac{\\partial N^Q}{\\partial r}\\\\\\frac{\\partial N^Q}{\\partial s}\\end{array}&\\cdots\\end{bmatrix}\\begin{bmatrix}\\vdots\\\\\\begin{array}{cc}x^Q&y^Q\\end{array}\\\\\\vdots\\end{bmatrix}\\\\\\end{array}\n",
    "$$\n",
    "\n",
    "\n",
    "where $N^Q$ is the shape function associated to node $Q$ and $x^Q$ and $y^Q$ are the nodal coordinates of the $Q$ point.\n",
    "\n",
    "Subroutine `jacoper()` uses the shape function derivatives and the coordinates of the nodal points to compute the Jacobian operator at a Gauss point.\n",
    "\n",
    "\n",
    "**(Add comments to clarify the relevant steps in the code below)**.\n"
   ]
  },
  {
   "cell_type": "code",
   "execution_count": 68,
   "metadata": {},
   "outputs": [],
   "source": [
    "def jacoper(r , s , coord):\n",
    "    \"\"\"\n",
    "    \"\"\"\n",
    "    dhdx = 0.25*np.array([\n",
    "            [s - 1, -s + 1, s + 1, -s - 1],\n",
    "            [r - 1, -r - 1, r + 1, -r + 1]])    \n",
    "    jaco = dhdx.dot(coord)\n",
    "    det = np.linalg.det(jaco)\n",
    "    \n",
    "    return det , jaco"
   ]
  },
  {
   "cell_type": "markdown",
   "metadata": {},
   "source": [
    "## Example:\n",
    "\n",
    "For the element with nodal coordinates in the physical space given by:"
   ]
  },
  {
   "cell_type": "code",
   "execution_count": 69,
   "metadata": {},
   "outputs": [],
   "source": [
    "x_1 = 0.0\n",
    "y_1 = 0.0\n",
    "#\n",
    "x_2 = 1.0\n",
    "y_2 = 0.0\n",
    "#\n",
    "x_3 = 1.0\n",
    "y_3 = 1.0\n",
    "#\n",
    "x_4 = 0.0\n",
    "y_4 = 1.0\n",
    "coord =([x_1 , y_1], [x_2 , y_2], [x_3 , y_3], [x_4 , y_4])"
   ]
  },
  {
   "cell_type": "markdown",
   "metadata": {},
   "source": [
    "compute the Jacobian operator at different points in the natural space."
   ]
  },
  {
   "cell_type": "code",
   "execution_count": 71,
   "metadata": {},
   "outputs": [
    {
     "name": "stdout",
     "output_type": "stream",
     "text": [
      "0.25\n",
      "[[0.5 0. ]\n",
      " [0.  0.5]]\n"
     ]
    }
   ],
   "source": [
    "ri = 0.8\n",
    "si = 0.8\n",
    "ddet , jaco = jacoper(ri , si , coord)\n",
    "print(ddet)\n",
    "print(jaco)"
   ]
  },
  {
   "cell_type": "markdown",
   "metadata": {},
   "source": [
    "## Problems:\n",
    " 1) For each one of the following Jacobians draw the corresponding element in the physical space (inlcuding its dimensions). Verify your answer using subroutine `jacoper()`. Discuss all your results with a classmate.\n",
    "\n",
    "$J=\\begin{bmatrix}2&0\\\\0&2\\end{bmatrix}$\n",
    "\n",
    "$J=\\begin{bmatrix}\\frac12&0\\\\0&\\frac12\\end{bmatrix}$\n",
    "\n",
    "$J=\\begin{bmatrix}2&0\\\\0&1\\end{bmatrix}$\n",
    "\n",
    "$J=\\begin{bmatrix}1&0\\\\0&2\\end{bmatrix}$\n",
    "\n",
    "$J=\\begin{bmatrix}1&0.125\\\\0&1\\end{bmatrix}$\n",
    "\n",
    "2) For each one of the elements identified in point 1) what is the ratio between the area in the physical space and the canonical element in the natural space. In what attribute of the Jacobian operator is this ratio captured?\n",
    "\n",
    "3) The following Jacobians correspond to the same element but they have been evaluated at the following Gauss points $(0.8 , 0.8) , (-0.8 , 0.8) , (-0.8 , -0.8) , (0.8 , -0.8)$:\n",
    "\n",
    "$J=\\begin{bmatrix}1&0.45\\\\0&0.95\\end{bmatrix}$\n",
    "\n",
    "$J=\\begin{bmatrix}1&0.45\\\\0&0.55\\end{bmatrix}$\n",
    "\n",
    "$J=\\begin{bmatrix}1&0.05\\\\0&0.55\\end{bmatrix}$\n",
    "\n",
    "$J=\\begin{bmatrix}1&0.05\\\\0&0.95\\end{bmatrix}$\n",
    "\n",
    "Draw the element in the physical space showing all its relevant dimensions. Indicate the $r , s$ dependence of each one of the terms.\n",
    "\n",
    "4) The determinant of the Jacobian for an element in a mesh is $\\left|J\\right| = 25$, Draw an element satisfying this condition. Is the solution unique?\n",
    "\n",
    "5) Using the subroutine `jacoper()` verify that the Jacobian is independent of the nodal point coordinates in the physical space.\n"
   ]
  },
  {
   "cell_type": "markdown",
   "metadata": {},
   "source": [
    "### Glossary of terms\n",
    "\n",
    "**Gauss points:** Evaluation points for a specific qudrature where the points and weighting factors are selected to provide maximum accuracy.\n",
    "\n",
    "**Physical space:** Space of a finite element as created in a meshing process of a coputational domain.\n",
    "\n",
    "**Natural space:** Matematical space to which all the elements of a mesh are transformedin order to facilitate interpolatio and numerical integration.\n"
   ]
  },
  {
   "cell_type": "markdown",
   "metadata": {},
   "source": [
    "### References\n",
    "\n",
    "* Bathe, Klaus-Jürgen. Finite element procedures. Klaus-Jurgen Bathe, 2006."
   ]
  },
  {
   "cell_type": "code",
   "execution_count": 72,
   "metadata": {},
   "outputs": [
    {
     "data": {
      "text/html": [
       "\n",
       "<link href='http://fonts.googleapis.com/css?family=Fenix' rel='stylesheet' type='text/css'>\n",
       "<link href='http://fonts.googleapis.com/css?family=Alegreya+Sans:100,300,400,500,700,800,900,100italic,300italic,400italic,500italic,700italic,800italic,900italic' rel='stylesheet' type='text/css'>\n",
       "<link href='http://fonts.googleapis.com/css?family=Source+Code+Pro:300,400' rel='stylesheet' type='text/css'>\n",
       "\n",
       "<style>\n",
       "\n",
       "/*\n",
       "Template for Notebooks for ModelaciÃ³n computacional.\n",
       "\n",
       "Based on Lorena Barba template available at:\n",
       "\n",
       "    https://github.com/barbagroup/AeroPython/blob/master/styles/custom.css\n",
       "*/\n",
       "\n",
       "/* Fonts */\n",
       "@font-face {\n",
       "font-family: \"Computer Modern\";\n",
       "src: url('http://mirrors.ctan.org/fonts/cm-unicode/fonts/otf/cmunss.otf');\n",
       "}\n",
       "\n",
       "/* Text */\n",
       "div.cell{\n",
       "width:800px;\n",
       "margin-left:16% !important;\n",
       "margin-right:auto;\n",
       "}\n",
       "h1 {\n",
       "font-family: 'Alegreya Sans', sans-serif;\n",
       "}\n",
       "h2 {\n",
       "font-family: 'Fenix', serif;\n",
       "}\n",
       "h3{\n",
       "font-family: 'Fenix', serif;\n",
       "margin-top:12px;\n",
       "margin-bottom: 3px;\n",
       "}\n",
       "h4{\n",
       "font-family: 'Fenix', serif;\n",
       "}\n",
       "h5 {\n",
       "font-family: 'Alegreya Sans', sans-serif;\n",
       "}\t\n",
       "div.text_cell_render{\n",
       "font-family: 'Alegreya Sans',Computer Modern, \"Helvetica Neue\", Arial, Helvetica, Geneva, sans-serif;\n",
       "line-height: 135%;\n",
       "font-size: 120%;\n",
       "width:600px;\n",
       "margin-left:auto;\n",
       "margin-right:auto;\n",
       "}\n",
       ".CodeMirror{\n",
       "font-family: \"Source Code Pro\";\n",
       "font-size: 90%;\n",
       "}\n",
       "/* .prompt{\n",
       "display: None;\n",
       "}*/\n",
       ".text_cell_render h1 {\n",
       "font-weight: 200;\n",
       "font-size: 50pt;\n",
       "line-height: 100%;\n",
       "color:#CD2305;\n",
       "margin-bottom: 0.5em;\n",
       "margin-top: 0.5em;\n",
       "display: block;\n",
       "}\t\n",
       ".text_cell_render h5 {\n",
       "font-weight: 300;\n",
       "font-size: 16pt;\n",
       "color: #CD2305;\n",
       "font-style: italic;\n",
       "margin-bottom: .5em;\n",
       "margin-top: 0.5em;\n",
       "display: block;\n",
       "}\n",
       ".warning{\n",
       "color: rgb( 240, 20, 20 )\n",
       "}\n",
       "</style>\n",
       "\n",
       "<script>\n",
       "/* Equations */\n",
       "\n",
       "MathJax.Hub.Config({\n",
       "TeX: {\n",
       "extensions: [\"AMSmath.js\"]\n",
       "},\n",
       "tex2jax: {\n",
       "inlineMath: [ ['$','$'], [\"\\\\(\",\"\\\\)\"] ],\n",
       "displayMath: [ ['$$','$$'], [\"\\\\[\",\"\\\\]\"] ]\n",
       "},\n",
       "displayAlign: 'center', // Change this to 'center' to center equations.\n",
       "\"HTML-CSS\": {\n",
       "styles: {'.MathJax_Display': {\"margin\": 4}}\n",
       "}\n",
       "});\n",
       "</script>\n",
       "\n",
       "\n"
      ],
      "text/plain": [
       "<IPython.core.display.HTML object>"
      ]
     },
     "execution_count": 72,
     "metadata": {},
     "output_type": "execute_result"
    }
   ],
   "source": [
    "from IPython.core.display import HTML\n",
    "def css_styling():\n",
    "    styles = open('./nb_style.css', 'r').read()\n",
    "    return HTML(styles)\n",
    "css_styling()"
   ]
  },
  {
   "cell_type": "code",
   "execution_count": null,
   "metadata": {},
   "outputs": [],
   "source": []
  }
 ],
 "metadata": {
  "celltoolbar": "Raw Cell Format",
  "kernelspec": {
   "display_name": "Python 3",
   "language": "python",
   "name": "python3"
  },
  "language_info": {
   "codemirror_mode": {
    "name": "ipython",
    "version": 3
   },
   "file_extension": ".py",
   "mimetype": "text/x-python",
   "name": "python",
   "nbconvert_exporter": "python",
   "pygments_lexer": "ipython3",
   "version": "3.7.3"
  },
  "varInspector": {
   "cols": {
    "lenName": 16,
    "lenType": 16,
    "lenVar": 40
   },
   "kernels_config": {
    "python": {
     "delete_cmd_postfix": "",
     "delete_cmd_prefix": "del ",
     "library": "var_list.py",
     "varRefreshCmd": "print(var_dic_list())"
    },
    "r": {
     "delete_cmd_postfix": ") ",
     "delete_cmd_prefix": "rm(",
     "library": "var_list.r",
     "varRefreshCmd": "cat(var_dic_list()) "
    }
   },
   "types_to_exclude": [
    "module",
    "function",
    "builtin_function_or_method",
    "instance",
    "_Feature"
   ],
   "window_display": false
  }
 },
 "nbformat": 4,
 "nbformat_minor": 1
}
