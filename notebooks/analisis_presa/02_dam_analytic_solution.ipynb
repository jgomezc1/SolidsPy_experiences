{
 "cells": [
  {
   "cell_type": "markdown",
   "metadata": {
    "raw_mimetype": "text/latex"
   },
   "source": [
    "Contenido bajo licencia Creative Commons BY 4.0 y código bajo licencia MIT. © Juan Gómez y Nicolas Guarín-Zapata 2019. Este material es parte del curso Mecánica de los Medios Continuos en el programa de Ingeniería Civil de la Universidad EAFIT."
   ]
  },
  {
   "cell_type": "markdown",
   "metadata": {},
   "source": [
    "# Solución analitica"
   ]
  },
  {
   "cell_type": "markdown",
   "metadata": {},
   "source": [
    "## Introduction"
   ]
  },
  {
   "cell_type": "markdown",
   "metadata": {},
   "source": [
    "Este note book evalua la solucón analitica para una presa triangular de ángulo interno igual a $45 \\circ$ sometida al empuje de un fluido de peso especifico $\\gamma$ en condiciones hidroestáticas. La solución se usa para efectos de verificación del análisis por elementos finitos de una presa de sección trapezoidal."
   ]
  },
  {
   "cell_type": "markdown",
   "metadata": {},
   "source": [
    "## Solución\n",
    "El dominio del problema se muestra a continuación:\n",
    "\n",
    "\n",
    "<center><img src=\"img/dam_analitica.png\" alt=\"mesh\" style=\"width:400px\"></center>\n",
    "\n",
    "\n",
    "La solución de tensiones esta dada por:\n",
    "\n",
    "$$\n",
    "\\sigma_{xx}=\\gamma(y-H)\n",
    "$$\n",
    "\n",
    "$$\n",
    "\\sigma_{yy}=-2\\gamma x-\\gamma(y-H)\n",
    "$$\n",
    "\n",
    "\n",
    "$$\n",
    "\\tau_{yy}=-\\gamma x\n",
    "$$\n"
   ]
  },
  {
   "cell_type": "markdown",
   "metadata": {},
   "source": [
    "## Visualización de la solución.\n",
    "\n",
    "Para visualizar la solución usaremos la misma malla usada en el modelo de elementos finitos:\n",
    "\n",
    "<center><img src=\"img/dam_mesh.png\" alt=\"mesh\" style=\"width:600px\"></center>"
   ]
  },
  {
   "cell_type": "markdown",
   "metadata": {},
   "source": [
    "#### Funciones\n",
    "\n",
    "En el bloque siguiente se programa la solución analitica."
   ]
  },
  {
   "cell_type": "code",
   "execution_count": 1,
   "metadata": {},
   "outputs": [],
   "source": [
    "%matplotlib inline        \n",
    "import matplotlib.pyplot as plt\n",
    "from matplotlib.tri import Triangulation, CubicTriInterpolator\n",
    "import numpy as np\n",
    "import sympy as sym\n",
    "#\n",
    "def sigxx(x, y, gamma , H):\n",
    "    ux=gamma*(y-H)\n",
    "    return ux\n",
    "\n",
    "def sigyy(x, y, gamma , H):\n",
    "    ux=-2.0*gamma*x-gamma*(y-H)\n",
    "    return ux\n",
    "\n",
    "def taoxy(x, y, gamma , H):\n",
    "    ux=-gamma*x\n",
    "    return ux"
   ]
  },
  {
   "cell_type": "markdown",
   "metadata": {},
   "source": [
    "#### Subrutinas de visualización de la solución\n",
    "\n",
    "Para visualizar la solución se usan rutinas de interpolación conjuntamente con la rutina de visuaización de campos escalares `plot_node_field()` de **Solidspy** descrita en lo que sigue. "
   ]
  },
  {
   "cell_type": "code",
   "execution_count": 2,
   "metadata": {},
   "outputs": [],
   "source": [
    "def plot_SFIELD(UC, nodes, elements, Ngra, plt_type=\"contourf\",  levels=12,\n",
    "               savefigs=False, title=\"Solution:\"  ):\n",
    "    \"\"\"Plots a user defined scalar field using a triangulation.\n",
    "    Parameters\n",
    "    ----------\n",
    "    UC : ndarray (float)\n",
    "      Array with the nodal solution.\n",
    "\n",
    "    \"\"\"\n",
    "    tri = mesh2tri(nodes, elements)\n",
    "    tri_plot(tri, UC , Ngra , title=r'$U_{var}$',\n",
    "             figtitle=title + \"User variable\",\n",
    "             levels=levels, plt_type=plt_type, savefigs=savefigs,\n",
    "             filename=\"uservar.pdf\")"
   ]
  },
  {
   "cell_type": "markdown",
   "metadata": {},
   "source": [
    "La subrutina `mesh2tri()` toma como paramétros de entrada los archivos de nudos y elementos de la malla y los usa para convertir la malla por elementos finitos en objetos de triangulación de Python, los cuales se representan acá por la lista `tri`."
   ]
  },
  {
   "cell_type": "code",
   "execution_count": 3,
   "metadata": {},
   "outputs": [],
   "source": [
    "def mesh2tri(nodes, elements):\n",
    "    \"\"\"Generates a matplotlib.tri.Triangulation object from the mesh\n",
    "\n",
    "    Parameters\n",
    "    ----------\n",
    "    nodes : ndarray (float)\n",
    "      Array with number and nodes coordinates:\n",
    "        `number coordX coordY BCX BCY`\n",
    "    elements : ndarray (int)\n",
    "      Array with the node number for the nodes that correspond to each\n",
    "      element.\n",
    "\n",
    "    Returns\n",
    "    -------\n",
    "    tri : Triangulation\n",
    "        An unstructured triangular grid consisting of npoints points\n",
    "        and ntri triangles.\n",
    "\n",
    "    \"\"\"\n",
    "    x = nodes[:, 1]\n",
    "    y = nodes[:, 2]\n",
    "    triangs = []\n",
    "    for el in elements:\n",
    "        if el[1]==9:\n",
    "            triangs.append(el[[3, 4, 5]])\n",
    "            triangs.append(el[[5, 6, 3]])\n",
    "        if el[1]==9:\n",
    "            triangs.append(el[[3, 6, 8]])\n",
    "            triangs.append(el[[6, 7, 8]])\n",
    "            triangs.append(el[[6, 4, 7]])\n",
    "            triangs.append(el[[7, 5, 8]])\n",
    "        if el[1]==3:\n",
    "            triangs.append(el[3:])\n",
    "\n",
    "    tri = Triangulation(x, y, np.array(triangs))\n",
    "#\n",
    "    return tri"
   ]
  },
  {
   "cell_type": "markdown",
   "metadata": {},
   "source": [
    "Una vez realizada la triangularización el objeto denominado `tri` es pasado a la rutina de graficación `tri_plot` conjuntamente con el vector solución para realizar la operación de visualización final.**"
   ]
  },
  {
   "cell_type": "code",
   "execution_count": 4,
   "metadata": {},
   "outputs": [],
   "source": [
    "def tri_plot(tri, field, Ngra ,  title=\"\", figtitle=\"\", levels=12, savefigs=False,\n",
    "             plt_type=\"contourf\" , filename=\"solution_plot.pdf\"  ):\n",
    "\n",
    "    plt.figure(Ngra)\n",
    "    if plt_type==\"pcolor\":\n",
    "        disp_plot = plt.tripcolor\n",
    "    elif plt_type==\"contourf\":\n",
    "        disp_plot = plt.tricontourf\n",
    "    plt.figure(figtitle)\n",
    "    disp_plot(tri, field, levels, shading=\"gouraud\")\n",
    "    plt.title(title)\n",
    "    plt.colorbar(orientation='vertical')\n",
    "    plt.axis(\"image\")\n",
    "    plt.grid()"
   ]
  },
  {
   "cell_type": "markdown",
   "metadata": {},
   "source": [
    "#### Programa principal"
   ]
  },
  {
   "cell_type": "markdown",
   "metadata": {},
   "source": [
    "(1) Se lee la malla."
   ]
  },
  {
   "cell_type": "code",
   "execution_count": 5,
   "metadata": {},
   "outputs": [],
   "source": [
    "nodes        = np.loadtxt('files/'+'Dnodes.txt')\n",
    "elements     = np.loadtxt('files/'+'Deles.txt')\n",
    "nn =len(nodes[:,0])"
   ]
  },
  {
   "cell_type": "markdown",
   "metadata": {},
   "source": [
    "(2) Se inicializan arreglos."
   ]
  },
  {
   "cell_type": "code",
   "execution_count": 6,
   "metadata": {},
   "outputs": [],
   "source": [
    "coords=np.zeros([nn,2])\n",
    "coords[:,0]=nodes[:,1]\n",
    "coords[:,1]=nodes[:,2]\n",
    "SOL_x  = np.zeros([nn])\n",
    "SOL_y  = np.zeros([nn])\n",
    "SOL_xy = np.zeros([nn])"
   ]
  },
  {
   "cell_type": "markdown",
   "metadata": {},
   "source": [
    "(3) Se evaluan las tensiones en todos los puntos"
   ]
  },
  {
   "cell_type": "code",
   "execution_count": 7,
   "metadata": {},
   "outputs": [],
   "source": [
    "H_p = 225.0\n",
    "for i in range(0,nn):\n",
    "    x = coords[i,0]\n",
    "    y = coords[i,1]\n",
    "    sxx =sigxx(x,y, 9.8e3 , H_p)\n",
    "    syy =sigyy(x,y, 9.8e3 , H_p)\n",
    "    txy =taoxy(x,y, 9.8e3 , H_p)\n",
    "    SOL_x[i]  = sxx\n",
    "    SOL_y[i]  = syy\n",
    "    SOL_xy[i] = txy"
   ]
  },
  {
   "cell_type": "markdown",
   "metadata": {},
   "source": [
    "(4) Se grafican las soluciones"
   ]
  },
  {
   "cell_type": "markdown",
   "metadata": {},
   "source": [
    "## $\\sigma_x$"
   ]
  },
  {
   "cell_type": "code",
   "execution_count": 8,
   "metadata": {},
   "outputs": [
    {
     "name": "stderr",
     "output_type": "stream",
     "text": [
      "C:\\Users\\AX201 GMRS\\Anaconda3\\lib\\site-packages\\ipykernel_launcher.py:10: UserWarning: The following kwargs were not used by contour: 'shading'\n",
      "  # Remove the CWD from sys.path while we load stuff.\n"
     ]
    },
    {
     "data": {
      "text/plain": [
       "<Figure size 432x288 with 0 Axes>"
      ]
     },
     "metadata": {},
     "output_type": "display_data"
    },
    {
     "data": {
      "image/png": "[encoded data removed]",
      "text/plain": [
       "<Figure size 432x288 with 2 Axes>"
      ]
     },
     "metadata": {
      "needs_background": "light"
     },
     "output_type": "display_data"
    }
   ],
   "source": [
    "plot_SFIELD(SOL_x , nodes , elements, 0 , plt_type =\"contourf\", levels = 12 )"
   ]
  },
  {
   "cell_type": "markdown",
   "metadata": {},
   "source": [
    "## $\\sigma_y$"
   ]
  },
  {
   "cell_type": "code",
   "execution_count": 9,
   "metadata": {
    "scrolled": true
   },
   "outputs": [
    {
     "name": "stderr",
     "output_type": "stream",
     "text": [
      "C:\\Users\\AX201 GMRS\\Anaconda3\\lib\\site-packages\\ipykernel_launcher.py:10: UserWarning: The following kwargs were not used by contour: 'shading'\n",
      "  # Remove the CWD from sys.path while we load stuff.\n"
     ]
    },
    {
     "data": {
      "text/plain": [
       "<Figure size 432x288 with 0 Axes>"
      ]
     },
     "metadata": {},
     "output_type": "display_data"
    },
    {
     "data": {
      "image/png": "[encoded data removed]",
      "text/plain": [
       "<Figure size 432x288 with 2 Axes>"
      ]
     },
     "metadata": {
      "needs_background": "light"
     },
     "output_type": "display_data"
    }
   ],
   "source": [
    "plot_SFIELD(SOL_y , nodes , elements, 0 , plt_type =\"contourf\", levels = 12 )"
   ]
  },
  {
   "cell_type": "markdown",
   "metadata": {},
   "source": [
    "## $\\tau_{xy}$"
   ]
  },
  {
   "cell_type": "code",
   "execution_count": 10,
   "metadata": {},
   "outputs": [
    {
     "name": "stderr",
     "output_type": "stream",
     "text": [
      "C:\\Users\\AX201 GMRS\\Anaconda3\\lib\\site-packages\\ipykernel_launcher.py:10: UserWarning: The following kwargs were not used by contour: 'shading'\n",
      "  # Remove the CWD from sys.path while we load stuff.\n"
     ]
    },
    {
     "data": {
      "text/plain": [
       "<Figure size 432x288 with 0 Axes>"
      ]
     },
     "metadata": {},
     "output_type": "display_data"
    },
    {
     "data": {
      "image/png": "[encoded data removed]",
      "text/plain": [
       "<Figure size 432x288 with 2 Axes>"
      ]
     },
     "metadata": {
      "needs_background": "light"
     },
     "output_type": "display_data"
    }
   ],
   "source": [
    "plot_SFIELD(SOL_xy , nodes , elements, 0 , plt_type =\"contourf\", levels = 12 )"
   ]
  },
  {
   "cell_type": "markdown",
   "metadata": {},
   "source": [
    "### References\n",
    "\n",
    "Juan Gómez, Nicolás Guarín-Zapata (2018). SolidsPy: 2D-Finite Element Analysis with Python, <https://github.com/AppliedMechanics-EAFIT/SolidsPy>."
   ]
  },
  {
   "cell_type": "code",
   "execution_count": 11,
   "metadata": {},
   "outputs": [
    {
     "data": {
      "text/html": [
       "\n",
       "<link href='http://fonts.googleapis.com/css?family=Fenix' rel='stylesheet' type='text/css'>\n",
       "<link href='http://fonts.googleapis.com/css?family=Alegreya+Sans:100,300,400,500,700,800,900,100italic,300italic,400italic,500italic,700italic,800italic,900italic' rel='stylesheet' type='text/css'>\n",
       "<link href='http://fonts.googleapis.com/css?family=Source+Code+Pro:300,400' rel='stylesheet' type='text/css'>\n",
       "\n",
       "<style>\n",
       "\n",
       "/*\n",
       "Template for Notebooks for ModelaciÃ³n computacional.\n",
       "\n",
       "Based on Lorena Barba template available at:\n",
       "\n",
       "    https://github.com/barbagroup/AeroPython/blob/master/styles/custom.css\n",
       "*/\n",
       "\n",
       "/* Fonts */\n",
       "@font-face {\n",
       "font-family: \"Computer Modern\";\n",
       "src: url('http://mirrors.ctan.org/fonts/cm-unicode/fonts/otf/cmunss.otf');\n",
       "}\n",
       "\n",
       "/* Text */\n",
       "div.cell{\n",
       "width:800px;\n",
       "margin-left:16% !important;\n",
       "margin-right:auto;\n",
       "}\n",
       "h1 {\n",
       "font-family: 'Alegreya Sans', sans-serif;\n",
       "}\n",
       "h2 {\n",
       "font-family: 'Fenix', serif;\n",
       "}\n",
       "h3{\n",
       "font-family: 'Fenix', serif;\n",
       "margin-top:12px;\n",
       "margin-bottom: 3px;\n",
       "}\n",
       "h4{\n",
       "font-family: 'Fenix', serif;\n",
       "}\n",
       "h5 {\n",
       "font-family: 'Alegreya Sans', sans-serif;\n",
       "}\t\n",
       "div.text_cell_render{\n",
       "font-family: 'Alegreya Sans',Computer Modern, \"Helvetica Neue\", Arial, Helvetica, Geneva, sans-serif;\n",
       "line-height: 135%;\n",
       "font-size: 120%;\n",
       "width:600px;\n",
       "margin-left:auto;\n",
       "margin-right:auto;\n",
       "}\n",
       ".CodeMirror{\n",
       "font-family: \"Source Code Pro\";\n",
       "font-size: 90%;\n",
       "}\n",
       "/* .prompt{\n",
       "display: None;\n",
       "}*/\n",
       ".text_cell_render h1 {\n",
       "font-weight: 200;\n",
       "font-size: 50pt;\n",
       "line-height: 100%;\n",
       "color:#CD2305;\n",
       "margin-bottom: 0.5em;\n",
       "margin-top: 0.5em;\n",
       "display: block;\n",
       "}\t\n",
       ".text_cell_render h5 {\n",
       "font-weight: 300;\n",
       "font-size: 16pt;\n",
       "color: #CD2305;\n",
       "font-style: italic;\n",
       "margin-bottom: .5em;\n",
       "margin-top: 0.5em;\n",
       "display: block;\n",
       "}\n",
       ".warning{\n",
       "color: rgb( 240, 20, 20 )\n",
       "}\n",
       "</style>\n",
       "\n",
       "<script>\n",
       "/* Equations */\n",
       "\n",
       "MathJax.Hub.Config({\n",
       "TeX: {\n",
       "extensions: [\"AMSmath.js\"]\n",
       "},\n",
       "tex2jax: {\n",
       "inlineMath: [ ['$','$'], [\"\\\\(\",\"\\\\)\"] ],\n",
       "displayMath: [ ['$$','$$'], [\"\\\\[\",\"\\\\]\"] ]\n",
       "},\n",
       "displayAlign: 'center', // Change this to 'center' to center equations.\n",
       "\"HTML-CSS\": {\n",
       "styles: {'.MathJax_Display': {\"margin\": 4}}\n",
       "}\n",
       "});\n",
       "</script>\n",
       "\n",
       "\n"
      ],
      "text/plain": [
       "<IPython.core.display.HTML object>"
      ]
     },
     "execution_count": 11,
     "metadata": {},
     "output_type": "execute_result"
    }
   ],
   "source": [
    "from IPython.core.display import HTML\n",
    "def css_styling():\n",
    "    styles = open('./nb_style.css', 'r').read()\n",
    "    return HTML(styles)\n",
    "css_styling()"
   ]
  },
  {
   "cell_type": "code",
   "execution_count": null,
   "metadata": {},
   "outputs": [],
   "source": []
  }
 ],
 "metadata": {
  "celltoolbar": "Raw Cell Format",
  "kernelspec": {
   "display_name": "Python 3",
   "language": "python",
   "name": "python3"
  },
  "language_info": {
   "codemirror_mode": {
    "name": "ipython",
    "version": 3
   },
   "file_extension": ".py",
   "mimetype": "text/x-python",
   "name": "python",
   "nbconvert_exporter": "python",
   "pygments_lexer": "ipython3",
   "version": "3.7.3"
  },
  "varInspector": {
   "cols": {
    "lenName": 16,
    "lenType": 16,
    "lenVar": 40
   },
   "kernels_config": {
    "python": {
     "delete_cmd_postfix": "",
     "delete_cmd_prefix": "del ",
     "library": "var_list.py",
     "varRefreshCmd": "print(var_dic_list())"
    },
    "r": {
     "delete_cmd_postfix": ") ",
     "delete_cmd_prefix": "rm(",
     "library": "var_list.r",
     "varRefreshCmd": "cat(var_dic_list()) "
    }
   },
   "types_to_exclude": [
    "module",
    "function",
    "builtin_function_or_method",
    "instance",
    "_Feature"
   ],
   "window_display": false
  }
 },
 "nbformat": 4,
 "nbformat_minor": 1
}
